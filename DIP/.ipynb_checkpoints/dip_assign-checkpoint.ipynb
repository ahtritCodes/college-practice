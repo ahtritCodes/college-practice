{
 "cells": [
  {
   "cell_type": "markdown",
   "id": "6f1adf01-5865-4c82-85b6-9a5f43b5c1a5",
   "metadata": {},
   "source": [
    "# DIP Assignment\n",
    "\n",
    "## Image processing using openCV and Python"
   ]
  },
  {
   "cell_type": "markdown",
   "id": "950c589e-8470-47e7-9758-8662352c8b61",
   "metadata": {},
   "source": [
    "1. Write a program to do image format conversion i.e. from\n",
    "   - RGB -> Gray\n",
    "   - Gray -> Binary\n",
    "   - RGB -> Binary\n",
    "   - RGB -> HSV\n",
    "   - HSV -> RGB\n",
    "   - RGB -> YCbCr\n",
    "   - YCbCr -> RGB"
   ]
  },
  {
   "cell_type": "code",
   "execution_count": null,
   "id": "5afc6bcd-9615-486f-9381-40eb75e95d05",
   "metadata": {},
   "outputs": [],
   "source": [
    "import cv2 as cv\n",
    "import numpy as np\n",
    "\n",
    "\n",
    "\n"
   ]
  }
 ],
 "metadata": {
  "kernelspec": {
   "display_name": "Python 3 (ipykernel)",
   "language": "python",
   "name": "python3"
  },
  "language_info": {
   "codemirror_mode": {
    "name": "ipython",
    "version": 3
   },
   "file_extension": ".py",
   "mimetype": "text/x-python",
   "name": "python",
   "nbconvert_exporter": "python",
   "pygments_lexer": "ipython3",
   "version": "3.12.0"
  }
 },
 "nbformat": 4,
 "nbformat_minor": 5
}

{
 "cells": [
  {
   "cell_type": "code",
   "execution_count": null,
   "id": "c11c3987-59d6-4787-8ff5-c662fe199ec6",
   "metadata": {},
   "outputs": [],
   "source": [
    "import cv2 as cv\n",
    "import numpy as np\n",
    "import matplotlib.pyplot as plt"
   ]
  },
  {
   "cell_type": "code",
   "execution_count": null,
   "id": "f40da2d7-a94d-41fc-bd66-b65ec5056058",
   "metadata": {},
   "outputs": [],
   "source": [
    "img = cv.imread(\"./img/noisyParrot.png\")\n",
    "rgb_img = cv.cvtColor(img, cv.COLOR_BGR2RGB)\n",
    "rgb_img_copy = rgb_img.copy()"
   ]
  },
  {
   "cell_type": "code",
   "execution_count": null,
   "id": "a1e164ad-df9a-4041-9ddf-57d7ac1285e7",
   "metadata": {},
   "outputs": [],
   "source": [
    "rgb_img.shape"
   ]
  },
  {
   "cell_type": "code",
   "execution_count": null,
   "id": "a30a2091-5133-40b2-8dcc-4645a65d39df",
   "metadata": {},
   "outputs": [],
   "source": [
    "r = rgb_img_copy[:,:,0]\n",
    "g = rgb_img_copy[:,:,1]\n",
    "b = rgb_img_copy[:,:,2]"
   ]
  },
  {
   "cell_type": "code",
   "execution_count": null,
   "id": "bb0bc5f7-ce42-4485-9e2a-a59ec3d4fdd1",
   "metadata": {},
   "outputs": [],
   "source": [
    "max_rgb = cv.max(cv.max(r, g), b)"
   ]
  },
  {
   "cell_type": "code",
   "execution_count": null,
   "id": "a221ed84-ee0c-4805-9ab3-1166850321fc",
   "metadata": {},
   "outputs": [],
   "source": [
    "max_rgb.shape\n",
    "max_rgb"
   ]
  },
  {
   "cell_type": "code",
   "execution_count": null,
   "id": "863d48f3-bb7a-4834-a7a3-802555e336d4",
   "metadata": {},
   "outputs": [],
   "source": [
    "r[r < max_rgb] = 0\n",
    "g[g < max_rgb] = 0\n",
    "b[b < max_rgb] = 0"
   ]
  },
  {
   "cell_type": "code",
   "execution_count": null,
   "id": "c7a8f334-b9e5-4b49-901f-732ce92854ff",
   "metadata": {},
   "outputs": [],
   "source": [
    "plt.figure(figsize=(6,6))\n",
    "plt.imshow(rgb_img)"
   ]
  },
  {
   "cell_type": "code",
   "execution_count": null,
   "id": "85611616-9f85-4a9a-b9be-0ca7c37e80dd",
   "metadata": {},
   "outputs": [],
   "source": [
    "rgb_img[240][200]"
   ]
  },
  {
   "cell_type": "code",
   "execution_count": null,
   "id": "65a67d18-0fc3-43ad-bcf4-a255d64367d1",
   "metadata": {},
   "outputs": [],
   "source": [
    "rgb_img_copy[240][200]"
   ]
  },
  {
   "cell_type": "code",
   "execution_count": null,
   "id": "0fb69257-8174-4f00-a140-d38eb4600843",
   "metadata": {},
   "outputs": [],
   "source": [
    "max_rgb[240][200]"
   ]
  },
  {
   "cell_type": "code",
   "execution_count": null,
   "id": "a0b66f8b-c8c9-4a26-990b-e8ba0da44ee7",
   "metadata": {},
   "outputs": [],
   "source": [
    "plt.imshow(rgb_img_copy)"
   ]
  },
  {
   "cell_type": "code",
   "execution_count": null,
   "id": "8b9b7a60-f805-4aa6-b7a8-48200d70013b",
   "metadata": {},
   "outputs": [],
   "source": [
    "rgb_img_copy = rgb_img.copy()\n",
    "min_rgb = cv.min(cv.min(r, g), b)\n",
    "r[r > min_rgb] = 0\n",
    "g[g > min_rgb] = 0\n",
    "b[b > min_rgb] = 0\n",
    "\n",
    "plt.imshow(rgb_img_copy)"
   ]
  },
  {
   "cell_type": "code",
   "execution_count": null,
   "id": "b307dc26-fb4b-4131-9bbc-4ce7022eead2",
   "metadata": {},
   "outputs": [],
   "source": [
    "img1 = cv.cvtColor(img.copy(), cv.COLOR_BGR2RGB)\n",
    "k = np.ones((3,3), dtype=np.float32) / 9\n",
    "k2 = np.ones((5,5), dtype=np.uint8) / 25\n",
    "f_img = cv.filter2D(src=img1, ddepth=-1, kernel=k)\n",
    "f_img2 = cv.filter2D(src=img1, ddepth=-1, kernel=k2)\n",
    "\n",
    "out = np.hstack((f_img, f_img2))\n",
    "plt.imshow(out)\n",
    "plt.axis(\"off\")"
   ]
  },
  {
   "cell_type": "code",
   "execution_count": null,
   "id": "1248fb71-8a5b-4bcf-8c65-29c86dfb6f56",
   "metadata": {},
   "outputs": [],
   "source": [
    "print(cv2.__version__)"
   ]
  },
  {
   "cell_type": "code",
   "execution_count": null,
   "id": "a3da242a-c24c-47d1-a7a6-91bcf74e734a",
   "metadata": {},
   "outputs": [],
   "source": []
  }
 ],
 "metadata": {
  "kernelspec": {
   "display_name": "Python 3 (ipykernel)",
   "language": "python",
   "name": "python3"
  },
  "language_info": {
   "codemirror_mode": {
    "name": "ipython",
    "version": 3
   },
   "file_extension": ".py",
   "mimetype": "text/x-python",
   "name": "python",
   "nbconvert_exporter": "python",
   "pygments_lexer": "ipython3",
   "version": "3.12.0"
  }
 },
 "nbformat": 4,
 "nbformat_minor": 5
}
